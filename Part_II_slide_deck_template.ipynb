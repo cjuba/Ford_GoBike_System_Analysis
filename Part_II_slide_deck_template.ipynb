{
 "cells": [
  {
   "cell_type": "markdown",
   "metadata": {
    "slideshow": {
     "slide_type": "slide"
    }
   },
   "source": [
    "# Part II - Ford GoBike Analysis for Feburary 2019\n",
    "## by Judith Uba"
   ]
  },
  {
   "cell_type": "markdown",
   "metadata": {
    "slideshow": {
     "slide_type": "skip"
    }
   },
   "source": [
    "\n",
    "\n",
    "\n",
    "\n",
    "## Investigation Overview\n",
    "\n",
    "\n",
    "> For this analysis, I wanted to see how the long rides lasted for and factors that made a rider ride longer than others. I looked at the main feature of interest duration_sec and other features that affected it which included date, member_gender, user_type and date and age.  \n",
    "\n",
    "\n",
    "## Dataset Overview\n",
    "\n",
    "> The data set contained information about individual rides made in Ford GoBike, a bike-sharing system covering the greater San Francisco Bay area, for the month of Feburary in the year 2019. I will like to state here that I manipulated the dataset to get age and date features\n",
    "\n"
   ]
  },
  {
   "cell_type": "code",
   "execution_count": 6,
   "metadata": {
    "slideshow": {
     "slide_type": "skip"
    }
   },
   "outputs": [],
   "source": [
    "# import all packages and set plots to be embedded inline\n",
    "import numpy as np\n",
    "import pandas as pd\n",
    "import matplotlib.pyplot as plt\n",
    "from datetime import datetime\n",
    "import seaborn as sb\n",
    "\n",
    "%matplotlib inline\n",
    "\n",
    "# suppress warnings from final output\n",
    "import warnings\n",
    "warnings.simplefilter(\"ignore\")"
   ]
  },
  {
   "cell_type": "code",
   "execution_count": 2,
   "metadata": {
    "slideshow": {
     "slide_type": "skip"
    }
   },
   "outputs": [],
   "source": [
    "# load in the dataset into a pandas dataframe\n",
    "data = pd.read_csv(\"201902-fordgobike-tripdata.csv\")"
   ]
  },
  {
   "cell_type": "code",
   "execution_count": 3,
   "metadata": {
    "slideshow": {
     "slide_type": "skip"
    }
   },
   "outputs": [],
   "source": [
    "#copy of dataframe\n",
    "bike = data.copy()"
   ]
  },
  {
   "cell_type": "code",
   "execution_count": 4,
   "metadata": {
    "slideshow": {
     "slide_type": "skip"
    }
   },
   "outputs": [],
   "source": [
    "#convert type from object to integer and Nan to 0\n",
    "bike['member_birth_year'] = bike['member_birth_year'].fillna(0).astype(int)\n",
    "#generate age column\n",
    "bike[\"age\"] = bike[\"member_birth_year\"].apply(lambda x: 2019 - x if x > 0 else 0)"
   ]
  },
  {
   "cell_type": "code",
   "execution_count": 7,
   "metadata": {
    "slideshow": {
     "slide_type": "skip"
    }
   },
   "outputs": [],
   "source": [
    "#extracting date of the month\n",
    "bike['date'] = bike['start_time'].map(lambda x: x[:10])\n",
    "bike['date'] = bike['date'].map(lambda x: datetime.strptime(x, '%Y-%m-%d'))\n",
    "#selecting date from datetime\n",
    "bike['date'] = bike['date'].map(lambda x: x.day)"
   ]
  },
  {
   "cell_type": "code",
   "execution_count": 8,
   "metadata": {
    "slideshow": {
     "slide_type": "skip"
    }
   },
   "outputs": [],
   "source": [
    "# drop Nans\n",
    "biketrip = bike.dropna()"
   ]
  },
  {
   "cell_type": "code",
   "execution_count": 9,
   "metadata": {
    "slideshow": {
     "slide_type": "skip"
    }
   },
   "outputs": [],
   "source": [
    "#selecting necessary columns\n",
    "biketrip = biketrip[['duration_sec', 'bike_id', 'user_type', 'age',  'member_gender', 'date', 'bike_share_for_all_trip']]"
   ]
  },
  {
   "cell_type": "markdown",
   "metadata": {
    "slideshow": {
     "slide_type": "slide"
    }
   },
   "source": [
    "## Distribution of Duration_sec\n",
    "\n",
    "> Duration_sec is the main feature of interest as it showed how long each ride lasted. I plotted a histogram to see the distribution of this feature. From the plot, it is obvious that duration sec distribution is unimodal having a peak around 600 seconds"
   ]
  },
  {
   "cell_type": "code",
   "execution_count": 10,
   "metadata": {
    "slideshow": {
     "slide_type": "subslide"
    }
   },
   "outputs": [
    {
     "data": {
      "image/png": "[encoded data removed]",
      "text/plain": [
       "<matplotlib.figure.Figure at 0x7f965fa98eb8>"
      ]
     },
     "metadata": {
      "needs_background": "light"
     },
     "output_type": "display_data"
    }
   ],
   "source": [
    "cut = 10 ** np.arange(1.7, 4.3+0.1, 0.1)\n",
    "plt.hist(data=biketrip, x='duration_sec', bins=cut)\n",
    "plt.xscale('log')\n",
    "plt.xticks([100, 250, 500, 1000, 2500, 5000, 10000],[100,250, 500, 1000, 2500,5000, 10000] )\n",
    "plt.xlabel('Duration_sec (seconds)')\n",
    "plt.ylabel('Count')\n",
    "plt.title('Duration_sec Distribution Logarithmic Scale');"
   ]
  },
  {
   "cell_type": "markdown",
   "metadata": {
    "collapsed": true,
    "slideshow": {
     "slide_type": "slide"
    }
   },
   "source": [
    "## Distribution of member_gender and user_type\n",
    "\n",
    "> I looked at the relationship between the two categorical features, the member_gender snd the user_type to see how it was distributed. I plotted a multiple bar chart to visualize this information and get better insights. The member_gender includes Male, Female and Others while the user_type includes Customer and Subscribers.The Male riders have the highest population of the member_gender while the subscribers have the highest count when comapared to the customers. All the member_gender categories are either customers or subscribers"
   ]
  },
  {
   "cell_type": "code",
   "execution_count": 11,
   "metadata": {
    "slideshow": {
     "slide_type": "subslide"
    }
   },
   "outputs": [
    {
     "data": {
      "image/png": "[encoded data removed]",
      "text/plain": [
       "<matplotlib.figure.Figure at 0x7f965ff8d1d0>"
      ]
     },
     "metadata": {
      "needs_background": "light"
     },
     "output_type": "display_data"
    }
   ],
   "source": [
    "# bar chart\n",
    "#ordering chart\n",
    "plt.figure(figsize=[15, 5])\n",
    "desc = biketrip['member_gender'].value_counts().index\n",
    "sb.countplot(data = biketrip, x = 'member_gender', hue = 'user_type', order=desc)\n",
    "plt.title('User_type and Member_gender');"
   ]
  },
  {
   "cell_type": "markdown",
   "metadata": {
    "slideshow": {
     "slide_type": "slide"
    }
   },
   "source": [
    "## Which day had the most rides?\n",
    "\n",
    "> I looked at the date feature to get a clearer insight on how rides were distributed through out the month of feburary. I created a barchart and arranged it in descending order to show the days with the highest number of rides and lowest number of rides. On the 28th of feburary, 2019 the higest number of rides were taken, while on the 9th of feburary, 2019 the least number of rides were taken\n",
    "\n"
   ]
  },
  {
   "cell_type": "code",
   "execution_count": 12,
   "metadata": {
    "slideshow": {
     "slide_type": "subslide"
    }
   },
   "outputs": [
    {
     "data": {
      "image/png": "[encoded data removed]",
      "text/plain": [
       "<matplotlib.figure.Figure at 0x7f965fec4898>"
      ]
     },
     "metadata": {
      "needs_background": "light"
     },
     "output_type": "display_data"
    }
   ],
   "source": [
    "#bar chart to show distribution of rides across the days\n",
    "plt.figure(figsize=[15, 4])\n",
    "desc = biketrip['date'].value_counts().index\n",
    "blue = sb.color_palette()[0]\n",
    "sb.countplot(data=biketrip, x='date', color=blue, order= desc)\n",
    "plt.title('Distribution of rides for each day');"
   ]
  },
  {
   "cell_type": "code",
   "execution_count": 13,
   "metadata": {
    "slideshow": {
     "slide_type": "skip"
    }
   },
   "outputs": [],
   "source": [
    "#Cleaning outliers\n",
    "Q25 = biketrip['duration_sec'].quantile(0.25)\n",
    "Q75= biketrip['duration_sec'].quantile(0.75)\n",
    "diff = Q75 - Q25\n",
    "# detect extereme values\n",
    "Q1 = (biketrip['duration_sec'] > (Q75 + 1.5 * diff))\n",
    "extereme = biketrip['duration_sec'][~Q1].max()\n",
    "#replace with mean \n",
    "biketrip['duration_sec'] = np.where(biketrip['duration_sec']> extereme, biketrip['duration_sec'].mean() , biketrip['duration_sec'])"
   ]
  },
  {
   "cell_type": "markdown",
   "metadata": {
    "slideshow": {
     "slide_type": "slide"
    }
   },
   "source": [
    "## Which category of member_gender and user_type took longer rides?\n",
    "\n",
    "> To get a better understanding of the category of both member_gender and user_tyoe that took longer rides, I generated a piont plot for a multivariate exploration of the three features. From the point plot, I gathered that the female customers (female riders that are customers) took the longest rides while the male subscribers took the shortest rides"
   ]
  },
  {
   "cell_type": "code",
   "execution_count": 14,
   "metadata": {
    "slideshow": {
     "slide_type": "subslide"
    }
   },
   "outputs": [
    {
     "data": {
      "image/png": "[encoded data removed]",
      "text/plain": [
       "<matplotlib.figure.Figure at 0x7f965fe06cc0>"
      ]
     },
     "metadata": {
      "needs_background": "light"
     },
     "output_type": "display_data"
    }
   ],
   "source": [
    "#point plot\n",
    "plt.figure(figsize=[15, 5])\n",
    "ax = sb.pointplot(data = biketrip, x = 'user_type', y = 'duration_sec', hue = 'member_gender',\n",
    "                  dodge = 0.1, linestyles = \"\")\n",
    "plt.title('Duration sec, Member gender and User_type');"
   ]
  },
  {
   "cell_type": "markdown",
   "metadata": {
    "slideshow": {
     "slide_type": "slide"
    }
   },
   "source": [
    "## Does sharing bike increase duration of rides?\n",
    "\n",
    "> To know if bike sharing increased the duartion of rides and if all the user_type category shared bikes, I plotted the three features on a point plot. I found out that bike sharing was only exclusive to subscribers and subscribers that share bike took the shortest rides"
   ]
  },
  {
   "cell_type": "code",
   "execution_count": 15,
   "metadata": {
    "slideshow": {
     "slide_type": "subslide"
    }
   },
   "outputs": [
    {
     "data": {
      "image/png": "[encoded data removed]",
      "text/plain": [
       "<matplotlib.figure.Figure at 0x7f965eb22160>"
      ]
     },
     "metadata": {
      "needs_background": "light"
     },
     "output_type": "display_data"
    }
   ],
   "source": [
    "#generate pointplot\n",
    "plt.figure(figsize=[15, 5])\n",
    "ax = sb.pointplot(data = biketrip, x = 'user_type', y = 'duration_sec', hue = 'bike_share_for_all_trip',\n",
    "                  dodge = 0.1, linestyles = \"\")\n",
    "plt.title('Duration_sec, Bike_share and User_type');"
   ]
  },
  {
   "cell_type": "markdown",
   "metadata": {
    "slideshow": {
     "slide_type": "slide"
    }
   },
   "source": [
    "## Conclusion\n",
    "\n",
    "> The female customers took the longest rides which I believe will result to more revenue for ford bike system. I think the company should target the female market more for more patronage. Secondly since the customers are taking more rides that the subscribers, they should be allowed to share rides too"
   ]
  },
  {
   "cell_type": "code",
   "execution_count": null,
   "metadata": {
    "slideshow": {
     "slide_type": "skip"
    }
   },
   "outputs": [
    {
     "name": "stdout",
     "output_type": "stream",
     "text": [
      "[NbConvertApp] Converting notebook Part_II_slide_deck_template.ipynb to slides\n",
      "[NbConvertApp] Writing 363318 bytes to Part_II_slide_deck_template.slides.html\n",
      "[NbConvertApp] Redirecting reveal.js requests to https://cdnjs.cloudflare.com/ajax/libs/reveal.js/3.5.0\n",
      "Serving your slides at http://127.0.0.1:8000/Part_II_slide_deck_template.slides.html\n",
      "Use Control-C to stop this server\n",
      "/usr/bin/xdg-open: 778: /usr/bin/xdg-open: x-www-browser: not found\n",
      "/usr/bin/xdg-open: 778: /usr/bin/xdg-open: firefox: not found\n",
      "/usr/bin/xdg-open: 778: /usr/bin/xdg-open: iceweasel: not found\n",
      "/usr/bin/xdg-open: 778: /usr/bin/xdg-open: seamonkey: not found\n",
      "/usr/bin/xdg-open: 778: /usr/bin/xdg-open: mozilla: not found\n",
      "/usr/bin/xdg-open: 778: /usr/bin/xdg-open: epiphany: not found\n",
      "/usr/bin/xdg-open: 778: /usr/bin/xdg-open: konqueror: not found\n",
      "/usr/bin/xdg-open: 778: /usr/bin/xdg-open: chromium-browser: not found\n",
      "/usr/bin/xdg-open: 778: /usr/bin/xdg-open: google-chrome: not found\n",
      "/usr/bin/xdg-open: 778: /usr/bin/xdg-open: www-browser: not found\n",
      "/usr/bin/xdg-open: 778: /usr/bin/xdg-open: links2: not found\n",
      "/usr/bin/xdg-open: 778: /usr/bin/xdg-open: elinks: not found\n",
      "/usr/bin/xdg-open: 778: /usr/bin/xdg-open: links: not found\n",
      "/usr/bin/xdg-open: 778: /usr/bin/xdg-open: lynx: not found\n",
      "/usr/bin/xdg-open: 778: /usr/bin/xdg-open: w3m: not found\n",
      "xdg-open: no method available for opening 'http://127.0.0.1:8000/Part_II_slide_deck_template.slides.html'\n"
     ]
    }
   ],
   "source": [
    "# Use this command if you are running this file in local\n",
    "!jupyter nbconvert Part_II_slide_deck_template.ipynb --to slides --post serve --no-input --no-prompt"
   ]
  },
  {
   "cell_type": "code",
   "execution_count": null,
   "metadata": {},
   "outputs": [],
   "source": []
  }
 ],
 "metadata": {
  "celltoolbar": "Slideshow",
  "kernelspec": {
   "display_name": "Python 3",
   "language": "python",
   "name": "python3"
  },
  "language_info": {
   "codemirror_mode": {
    "name": "ipython",
    "version": 3
   },
   "file_extension": ".py",
   "mimetype": "text/x-python",
   "name": "python",
   "nbconvert_exporter": "python",
   "pygments_lexer": "ipython3",
   "version": "3.6.3"
  }
 },
 "nbformat": 4,
 "nbformat_minor": 2
}
